{
 "cells": [
  {
   "cell_type": "code",
   "execution_count": 6,
   "metadata": {},
   "outputs": [],
   "source": [
    "import numpy as np\n",
    "\n",
    "import matplotlib.pyplot as plt\n",
    "import seaborn as sns\n",
    "\n",
    "from sklearn import datasets\n",
    "from sklearn.metrics import accuracy_score"
   ]
  },
  {
   "cell_type": "code",
   "execution_count": 7,
   "metadata": {},
   "outputs": [],
   "source": [
    "cancer = datasets.load_breast_cancer()\n",
    "X = cancer['data']\n",
    "y = cancer['target']"
   ]
  },
  {
   "cell_type": "code",
   "execution_count": 8,
   "metadata": {},
   "outputs": [],
   "source": [
    "def logistic(z):\n",
    "    return 1.0/(1.0 + np.exp(-z))\n",
    "\n",
    "\n",
    "def standard_scaler(X):\n",
    "    return (X - X.mean(axis=0))/X.std(axis=0)"
   ]
  },
  {
   "cell_type": "markdown",
   "metadata": {},
   "source": [
    "In the class below, Logistic Regression estimates $\\beta$ with gradient descent, using the gradient of the negative log-likelihood.\n",
    "\n",
    "$\\frac{\\partial L(\\beta)}{\\partial\\beta} = \\frac{\\partial -log L(\\beta)}{\\partial\\beta} = -X^T(y-p)$"
   ]
  },
  {
   "cell_type": "code",
   "execution_count": 11,
   "metadata": {},
   "outputs": [],
   "source": [
    "class BinaryLogisticRegression:\n",
    "    \n",
    "    def fit(self, X, y, n_iter, lr,\n",
    "                  standardize=True, has_intercept=False):\n",
    "        \n",
    "        if standardize:\n",
    "            X = standard_scaler(X)\n",
    "        \n",
    "        if not has_intercept:\n",
    "            ones = np.ones(X.shape[0]).reshape(-1, 1)\n",
    "            X = np.concatenate((ones, X), axis=1)\n",
    "            \n",
    "        self.X = X\n",
    "        self.N, self.D = X.shape\n",
    "        self.y = y\n",
    "        self.n_iter = n_iter\n",
    "        self.lr = lr\n",
    "        \n",
    "        beta = np.random.randn(self.D)\n",
    "        for i in range(n_iter):\n",
    "            p = logistic(np.dot(self.X, beta))\n",
    "            \n",
    "            gradient = -np.dot(self.X.T, (self.y-p))\n",
    "            \n",
    "            beta -= self.lr*gradient\n",
    "            \n",
    "        self.beta = beta\n",
    "        self.p = logistic(np.dot(self.X, self.beta))\n",
    "        self.yhat = self.p.round()"
   ]
  },
  {
   "cell_type": "code",
   "execution_count": 12,
   "metadata": {},
   "outputs": [
    {
     "name": "stdout",
     "output_type": "stream",
     "text": [
      "In-sample accuracy: 0.9877\n"
     ]
    }
   ],
   "source": [
    "binary_model = BinaryLogisticRegression()\n",
    "binary_model.fit(X, y, n_iter=10**4, lr=0.0001)\n",
    "\n",
    "\n",
    "print('In-sample accuracy: %.4f' % (accuracy_score(binary_model.y, binary_model.yhat)))"
   ]
  },
  {
   "cell_type": "code",
   "execution_count": null,
   "metadata": {},
   "outputs": [],
   "source": []
  }
 ],
 "metadata": {
  "kernelspec": {
   "display_name": "Python 3",
   "language": "python",
   "name": "python3"
  },
  "language_info": {
   "codemirror_mode": {
    "name": "ipython",
    "version": 3
   },
   "file_extension": ".py",
   "mimetype": "text/x-python",
   "name": "python",
   "nbconvert_exporter": "python",
   "pygments_lexer": "ipython3",
   "version": "3.6.9"
  }
 },
 "nbformat": 4,
 "nbformat_minor": 2
}
