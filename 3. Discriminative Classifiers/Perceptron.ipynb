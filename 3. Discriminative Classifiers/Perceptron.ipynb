{
 "cells": [
  {
   "cell_type": "code",
   "execution_count": 13,
   "metadata": {},
   "outputs": [],
   "source": [
    "import numpy as np\n",
    "\n",
    "import matplotlib.pyplot as plt\n",
    "import seaborn as sns\n",
    "\n",
    "from sklearn import datasets\n",
    "\n",
    "from sklearn.metrics import accuracy_score"
   ]
  },
  {
   "cell_type": "code",
   "execution_count": 14,
   "metadata": {},
   "outputs": [],
   "source": [
    "cancer = datasets.load_breast_cancer()\n",
    "X = cancer['data']\n",
    "y = cancer['target']"
   ]
  },
  {
   "cell_type": "code",
   "execution_count": 15,
   "metadata": {},
   "outputs": [],
   "source": [
    "def sign(a):\n",
    "    return (-1)**(a < 0)\n",
    "\n",
    "def to_binary(y):\n",
    "    return y > 0\n",
    "\n",
    "def standard_scaler(X):\n",
    "    return (X-X.mean(axis=0))/X.std(axis=0)"
   ]
  },
  {
   "cell_type": "code",
   "execution_count": 16,
   "metadata": {},
   "outputs": [],
   "source": [
    "class Perceptron:\n",
    "    \n",
    "    def fit(self, X, y, n_iter=10**3, lr=0.001, \n",
    "            add_intercept=True, standardize = True):\n",
    "        \n",
    "        if standardize:\n",
    "            X = standard_scaler(X)\n",
    "            \n",
    "        if add_intercept:\n",
    "            ones = np.ones(len(X)).reshape(-1, 1)\n",
    "            \n",
    "        self.X = X\n",
    "        self.N, self.D = self.X.shape\n",
    "        self.y = y\n",
    "        self.n_iter = n_iter\n",
    "        self.lr = lr\n",
    "        self.converged = False\n",
    "        \n",
    "        beta = np.random.randn(self.D)/5\n",
    "        for i in range(self.n_iter):\n",
    "            \n",
    "            yhat = to_binary(sign(np.dot(self.X, beta)))\n",
    "            \n",
    "            if np.all(yhat == sign(self.y)):\n",
    "                self.converged = True\n",
    "                self.iterations_until_convergence = i\n",
    "                break\n",
    "            \n",
    "            # only penalize wrong predictions\n",
    "            for n in range(self.N):\n",
    "                yhat_n = sign(np.dot(beta, self.X[n]))\n",
    "                if self.y[n]*yhat_n == -1:\n",
    "                    beta += self.lr*self.y[n]*self.X[n]\n",
    "                    \n",
    "        self.beta = beta\n",
    "        self.yhat = to_binary(sign(np.dot(self.X, self.beta)))\n",
    "                \n",
    "            "
   ]
  },
  {
   "cell_type": "code",
   "execution_count": 17,
   "metadata": {},
   "outputs": [],
   "source": [
    "perceptron = Perceptron()\n",
    "perceptron.fit(X, y, n_iter=10**3, lr=0.01)"
   ]
  },
  {
   "cell_type": "code",
   "execution_count": 18,
   "metadata": {},
   "outputs": [
    {
     "name": "stdout",
     "output_type": "stream",
     "text": [
      "Perceptron converged? 0, acc: 0.961\n"
     ]
    }
   ],
   "source": [
    "print(\"Perceptron converged? %d, acc: %.3f\" % (perceptron.converged, accuracy_score(perceptron.y, perceptron.yhat)))"
   ]
  },
  {
   "cell_type": "code",
   "execution_count": null,
   "metadata": {},
   "outputs": [],
   "source": []
  }
 ],
 "metadata": {
  "kernelspec": {
   "display_name": "Python 3",
   "language": "python",
   "name": "python3"
  },
  "language_info": {
   "codemirror_mode": {
    "name": "ipython",
    "version": 3
   },
   "file_extension": ".py",
   "mimetype": "text/x-python",
   "name": "python",
   "nbconvert_exporter": "python",
   "pygments_lexer": "ipython3",
   "version": "3.6.9"
  }
 },
 "nbformat": 4,
 "nbformat_minor": 2
}
