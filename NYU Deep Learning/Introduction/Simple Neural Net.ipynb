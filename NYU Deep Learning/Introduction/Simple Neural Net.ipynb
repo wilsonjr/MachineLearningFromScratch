{
 "cells": [
  {
   "cell_type": "code",
   "execution_count": 1,
   "metadata": {},
   "outputs": [],
   "source": [
    "import torch\n",
    "from torch import nn"
   ]
  },
  {
   "cell_type": "code",
   "execution_count": 2,
   "metadata": {},
   "outputs": [],
   "source": [
    "image = torch.randn(3, 10, 20)\n",
    "d0 = image.nelement()"
   ]
  },
  {
   "cell_type": "code",
   "execution_count": 5,
   "metadata": {},
   "outputs": [],
   "source": [
    "class MyNet(nn.Module):\n",
    "    \n",
    "    def __init__(self, d0, d1, d2, d3):\n",
    "        super().__init__()\n",
    "        \n",
    "        self.m0 = nn.Linear(d0, d1)\n",
    "        self.m1 = nn.Linear(d1, d2)\n",
    "        self.m2 = nn.Linear(d2, d3)\n",
    "        \n",
    "    def forward(self, x):\n",
    "        \n",
    "        z0 = x.view(-1)\n",
    "        s1 = self.m0(z0)\n",
    "        \n",
    "        z1 = torch.relu(s1)\n",
    "        s2 = self.m1(z1)\n",
    "        \n",
    "        z2 = torch.relu(s2)\n",
    "        s3 = self.m2(z2)\n",
    "        \n",
    "        return s3"
   ]
  },
  {
   "cell_type": "code",
   "execution_count": 6,
   "metadata": {},
   "outputs": [],
   "source": [
    "model = MyNet(d0, 60, 40, 10)\n",
    "out = model(image)"
   ]
  },
  {
   "cell_type": "code",
   "execution_count": 7,
   "metadata": {},
   "outputs": [
    {
     "data": {
      "text/plain": [
       "tensor([-0.0224,  0.1848, -0.0074,  0.0044,  0.0336, -0.3130, -0.3198,  0.1689,\n",
       "        -0.1264, -0.0948], grad_fn=<AddBackward0>)"
      ]
     },
     "execution_count": 7,
     "metadata": {},
     "output_type": "execute_result"
    }
   ],
   "source": [
    "out"
   ]
  }
 ],
 "metadata": {
  "kernelspec": {
   "display_name": "Python 3",
   "language": "python",
   "name": "python3"
  },
  "language_info": {
   "codemirror_mode": {
    "name": "ipython",
    "version": 3
   },
   "file_extension": ".py",
   "mimetype": "text/x-python",
   "name": "python",
   "nbconvert_exporter": "python",
   "pygments_lexer": "ipython3",
   "version": "3.7.3"
  }
 },
 "nbformat": 4,
 "nbformat_minor": 4
}
