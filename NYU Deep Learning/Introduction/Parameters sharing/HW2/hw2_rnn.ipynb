{
 "cells": [
  {
   "cell_type": "markdown",
   "metadata": {
    "id": "PtcBjMq7YV3f"
   },
   "source": [
    "# Homework 2 - Recurrent Neural Networks"
   ]
  },
  {
   "cell_type": "markdown",
   "metadata": {
    "id": "Rn-cOk1iZTtR"
   },
   "source": [
    "In this part of the homework we are going to work with Recurrent Neural Networks, in particular GRU. One of the greatest things that Recurrent Neural Networks can do when working with sequences is retaining data from several timesteps in the past. We are going to explore that property by constructing an 'echo' Recurrent Neural Network.\n",
    "\n",
    "The goal here is to make a model that given a sequence of letters or digits will output that same sequence, but with a certain delay. Let's say the input is a string 'abacaba', we want the model to not output anything for 3 steps (delay length), and then output the original string step by step, except the last 3 characters. So, target output is then 'XXXabac', where 'X' is empty output.\n",
    "\n",
    "This is similar to [this notebook](https://github.com/Atcold/pytorch-Deep-Learning/blob/master/09-echo_data.ipynb) (which you should refer to when doing this assignment), except we're working not with a binary string, but with a sequence of integers between 0 and some N. In our case N is 26, which is the number of letters in the alphabet."
   ]
  },
  {
   "cell_type": "markdown",
   "metadata": {
    "id": "npLlE973as6x"
   },
   "source": [
    "## Dataset\n",
    "\n",
    "Let's implement the dataset. In our case, the data is basically infinite, as we can always generate more examples on the fly, so don't need to load anything from disk."
   ]
  },
  {
   "cell_type": "code",
   "execution_count": 16,
   "metadata": {
    "id": "mkEEMyvzIMRx"
   },
   "outputs": [],
   "source": [
    "import random\n",
    "import string\n",
    "import torch\n",
    "\n",
    "from tqdm import notebook\n",
    "\n",
    "# Max value of the generated integer. 26 is chosen becuase it's\n",
    "# the number of letters in English alphabet.\n",
    "N = 26\n",
    "\n",
    "\n",
    "def idx_to_onehot(x, k=N+1):\n",
    "    \"\"\" Converts the generated integers to one-hot vectors \"\"\"\n",
    "    ones = torch.sparse.torch.eye(k)\n",
    "    shape = x.shape\n",
    "    res = ones.index_select(0, x.view(-1).type(torch.int64))\n",
    "    return res.view(*shape, res.shape[-1])\n",
    "\n",
    "\n",
    "class EchoDataset(torch.utils.data.IterableDataset):\n",
    "\n",
    "    def __init__(self, delay=4, seq_length=15, size=1000):\n",
    "        self.delay = delay\n",
    "        self.seq_length = seq_length\n",
    "        self.size = size\n",
    "\n",
    "    def __len__(self):\n",
    "        return self.size\n",
    "\n",
    "    def __iter__(self):\n",
    "        \"\"\" Iterable dataset doesn't have to implement __getitem__.\n",
    "        Instead, we only need to implement __iter__ to return\n",
    "        an iterator (or generator).\n",
    "        \"\"\"\n",
    "        for _ in range(self.size):\n",
    "            seq = torch.tensor([random.choice(range(1, N + 1)) for i in range(self.seq_length)], dtype=torch.int64)\n",
    "            result = torch.cat((torch.zeros(self.delay), seq[:self.seq_length - self.delay])).type(torch.int64)\n",
    "            yield seq, result\n",
    "\n",
    "DELAY = 4\n",
    "DATASET_SIZE = 200000\n",
    "ds = EchoDataset(delay=DELAY,  size=DATASET_SIZE)"
   ]
  },
  {
   "cell_type": "markdown",
   "metadata": {
    "id": "nNrZqYURcKSl"
   },
   "source": [
    "## Model\n",
    "\n",
    "Now, we want to implement the model. For our purposes, we want to use GRU. The architecture consists of GRU and a decoder. Decoder is responsible for decoding the GRU hidden state to yield a predicting for the next output. The parts you are responsible for filling with your code are marked with `TODO`. "
   ]
  },
  {
   "cell_type": "code",
   "execution_count": 4,
   "metadata": {
    "id": "nigN_o4Mb9Nx"
   },
   "outputs": [],
   "source": [
    "class GRUMemory(torch.nn.Module):\n",
    "\n",
    "    def __init__(self, hidden_size):\n",
    "        super().__init__()\n",
    "        #TODO: initialize your submodules\n",
    "        \n",
    "        self.gru = torch.nn.GRU(\n",
    "            input_size=N+1, \n",
    "            hidden_size=hidden_size, \n",
    "            num_layers=2, \n",
    "            batch_first=True\n",
    "        )\n",
    "        \n",
    "        self.linear = torch.nn.Linear(\n",
    "            in_features=hidden_size, \n",
    "            out_features=N+1\n",
    "        )\n",
    "\n",
    "    def forward(self, x):\n",
    "        # inputs: x - input tensor of shape (batch_size, seq_length, N+1)\n",
    "        # returns:\n",
    "        # logits (scores for softmax) of shape (batch size, seq_length, N+1)\n",
    "        # TODO implement forward pass\n",
    "        \n",
    "        output, hidden = self.gru(x)\n",
    "        logits = self.linear(output)        \n",
    "        \n",
    "        return logits, hidden\n",
    "        \n",
    "        \n",
    "\n",
    "    @torch.no_grad()\n",
    "    def test_run(self, s):\n",
    "        # This function accepts one string s containing lowercase characters a-z. \n",
    "        # You need to map those characters to one-hot encodings, \n",
    "        # then get the result from your network, and then convert the output \n",
    "        # back to a string of the same length, with 0 mapped to ' ', \n",
    "        # and 1-26 mapped to a-z.\n",
    "        \n",
    "        self.eval()\n",
    "        \n",
    "        device = torch.device(\"cpu\")\n",
    "        \n",
    "        x = torch.tensor([ord(c)-(ord('a')-1) for c in s])\n",
    "        x_input = idx_to_onehot(x).unsqueeze(0)\n",
    "        x_input = x_input.to(device)\n",
    "        \n",
    "        output, _ = self.forward(x_input)\n",
    "        output = torch.squeeze(output)\n",
    "        pred = torch.max(output, 1)\n",
    "        \n",
    "        decoded = [chr(ord('`')+round(v.item())) if round(v.item()) > 0 else ' ' for v in pred.indices]\n",
    "        \n",
    "        return decoded"
   ]
  },
  {
   "cell_type": "markdown",
   "metadata": {
    "id": "A9whwmVu9OIx"
   },
   "source": [
    "## Training\n",
    "Below you need to implement the training of the model. We give you more freedom as for the implementation. The two limitations are that it has to execute within 10 minutes, and that error rate should be below 1%."
   ]
  },
  {
   "cell_type": "code",
   "execution_count": 321,
   "metadata": {
    "id": "lUZkeRnVTNzG"
   },
   "outputs": [],
   "source": [
    "def test_model(model, sequence_length=15):\n",
    "    \"\"\"\n",
    "    This is the test function that runs 100 different strings through your model,\n",
    "    and checks the error rate.\n",
    "    \"\"\"\n",
    "    total = 0\n",
    "    correct = 0\n",
    "    for i in range(500):\n",
    "        s = ''.join([random.choice(string.ascii_lowercase) for i in range(random.randint(15, 25))])\n",
    "        result = model.test_run(s)\n",
    "        assert D > 0, 's[:-D] won\\'t work for D=0'\n",
    "        for c1, c2 in zip(s[:-D], result[D:]):\n",
    "            correct += int(c1 == c2)\n",
    "        total += len(s) - D\n",
    "\n",
    "    return correct / total"
   ]
  },
  {
   "cell_type": "code",
   "execution_count": 7,
   "metadata": {},
   "outputs": [],
   "source": [
    "device = torch.device('cuda:0' if torch.cuda.is_available() else 'cpu')\n",
    "\n",
    "batch_size = 64\n",
    "train_loader = torch.utils.data.DataLoader(ds, batch_size=batch_size)"
   ]
  },
  {
   "cell_type": "code",
   "execution_count": 8,
   "metadata": {},
   "outputs": [],
   "source": [
    "D = DELAY\n",
    "n_epochs = 2\n",
    "\n",
    "model = GRUMemory(hidden_size=64)\n",
    "criterion = torch.nn.CrossEntropyLoss()\n",
    "optimizer = torch.optim.RMSprop(model.parameters(), lr=0.001)\n",
    "\n",
    "hidden = None"
   ]
  },
  {
   "cell_type": "code",
   "execution_count": 324,
   "metadata": {
    "id": "9lV9BscxCCAI",
    "scrolled": false
   },
   "outputs": [
    {
     "data": {
      "application/vnd.jupyter.widget-view+json": {
       "model_id": "d3eec0b804b0437b89456bbb0d4c009e",
       "version_major": 2,
       "version_minor": 0
      },
      "text/plain": [
       "HBox(children=(FloatProgress(value=0.0, max=3125.0), HTML(value='')))"
      ]
     },
     "metadata": {},
     "output_type": "display_data"
    },
    {
     "name": "stdout",
     "output_type": "stream",
     "text": [
      "\n",
      "Train Epoch: 1/2, loss: 0.002, accuracy 0.89140%\n"
     ]
    },
    {
     "data": {
      "application/vnd.jupyter.widget-view+json": {
       "model_id": "32a1083ef6114f46ab385665602883c1",
       "version_major": 2,
       "version_minor": 0
      },
      "text/plain": [
       "HBox(children=(FloatProgress(value=0.0, max=3125.0), HTML(value='')))"
      ]
     },
     "metadata": {},
     "output_type": "display_data"
    },
    {
     "name": "stdout",
     "output_type": "stream",
     "text": [
      "\n",
      "Train Epoch: 2/2, loss: 0.000, accuracy 0.99910%\n",
      "tests passed\n"
     ]
    }
   ],
   "source": [
    "import time\n",
    "import numpy as np\n",
    "\n",
    "from tqdm import notebook\n",
    "\n",
    "from torch.utils.data import TensorDataset, DataLoader\n",
    "\n",
    "start_time = time.time()\n",
    "\n",
    "# TODO: initialize and train your model here.\n",
    "\n",
    "epoch = 0\n",
    "\n",
    "while epoch < n_epochs:\n",
    "    epoch += 1    \n",
    "    correct = 0\n",
    "    total = 0\n",
    "    \n",
    "    model.train()\n",
    "    \n",
    "    for data, target in notebook.tqdm(train_loader):        \n",
    "        data, target = idx_to_onehot(data).to(device), target.to(device)\n",
    "        \n",
    "        optimizer.zero_grad()\n",
    "                \n",
    "        output, hidden = model(data) \n",
    "        output = output.permute(0, 2, 1)\n",
    "        \n",
    "        loss = criterion(output, target)       \n",
    "        loss.backward()\n",
    "        optimizer.step()\n",
    "        \n",
    "        pred = torch.log_softmax(output, 1).argmax(1).numpy()\n",
    "        y = target.numpy()\n",
    "        for i in range(y.shape[0]):\n",
    "            for c1, c2 in zip(y[i][:], pred[i][:]):\n",
    "                correct += int(c1 == c2)\n",
    "            total += y[i].shape[0]\n",
    "            \n",
    "    train_accuracy = float(correct)/total   \n",
    "    print(f'Train Epoch: {epoch}/{n_epochs}, loss: {loss.item():.3f}, accuracy {train_accuracy:.5f}%')\n",
    "\n",
    "\n",
    "end_time = time.time()\n",
    "duration = end_time - start_time\n",
    "model.eval()\n",
    "accuracy = test_model(model)\n",
    "assert duration < 600, 'execution took f{duration:.2f} seconds, which longer than 10 mins'\n",
    "assert accuracy > 0.99, f'accuracy is too low, got {accuracy}, need 0.99'\n",
    "print('tests passed')"
   ]
  },
  {
   "cell_type": "markdown",
   "metadata": {
    "id": "sB0EVNBtDhpN"
   },
   "source": [
    "## Variable delay model\n",
    "\n",
    "Now, to make this more complicated, we want to have varialbe delay. So, now, the goal is to transform a sequence of pairs (character, delay) into a character sequence with given delay. Delay stays constant within one sequence."
   ]
  },
  {
   "cell_type": "markdown",
   "metadata": {
    "id": "3i_iwX_AEOCH"
   },
   "source": [
    "### Dataset\n",
    "As before, we first implement the dataset:"
   ]
  },
  {
   "cell_type": "code",
   "execution_count": 17,
   "metadata": {
    "id": "E4G5b8kuEUEd"
   },
   "outputs": [],
   "source": [
    "class VariableDelayEchoDataset(torch.utils.data.IterableDataset):\n",
    "\n",
    "    def __init__(self, max_delay=8, seq_length=20, size=1000):\n",
    "        self.max_delay = max_delay\n",
    "        self.seq_length = seq_length\n",
    "        self.size = size\n",
    "\n",
    "    def __len__(self):\n",
    "        return self.size\n",
    "\n",
    "    def __iter__(self):\n",
    "        for _ in range(self.size):\n",
    "            seq = torch.tensor([random.choice(range(1, N + 1)) for i in range(self.seq_length)], dtype=torch.int64)\n",
    "            delay = random.randint(0, self.max_delay)\n",
    "            result = torch.cat((torch.zeros(delay), seq[:self.seq_length - delay])).type(torch.int64)\n",
    "            yield seq, delay, result"
   ]
  },
  {
   "cell_type": "markdown",
   "metadata": {
    "id": "oTRVOND3HEJZ"
   },
   "source": [
    "### Model\n",
    "\n",
    "And the model."
   ]
  },
  {
   "cell_type": "code",
   "execution_count": 18,
   "metadata": {
    "id": "IYolFIB8Hg0U"
   },
   "outputs": [],
   "source": [
    "class VariableDelayGRUMemory(torch.nn.Module):\n",
    "\n",
    "    def __init__(self, hidden_size, max_delay):\n",
    "        super().__init__()\n",
    "        \n",
    "        self.hidden_size = hidden_size\n",
    "        self.max_delay = max_delay\n",
    "        \n",
    "        self.gru = torch.nn.GRU(\n",
    "            input_size=N+2, \n",
    "            hidden_size=hidden_size, \n",
    "            num_layers=4, \n",
    "            batch_first=True\n",
    "        )\n",
    "        \n",
    "        self.linear = torch.nn.Linear(\n",
    "            in_features=hidden_size,\n",
    "            out_features=N+1\n",
    "        )\n",
    "        \n",
    "\n",
    "    def forward(self, x, delays):\n",
    "        # inputs:\n",
    "        # x - tensor of shape (batch size, seq length, N + 1)\n",
    "        # delays - tensor of shape (batch size)\n",
    "        # returns:\n",
    "        # logits (scores for softmax) of shape (batch size, seq_length, N + 1)\n",
    "        delays = delays.view(-1, 1).repeat(1, x.shape[1]).unsqueeze(2)\n",
    "        x = torch.cat((x, delays), dim=2).to(device)\n",
    "        \n",
    "        \n",
    "        x, hidden = self.gru(x)\n",
    "        logits = self.linear(x)\n",
    "        \n",
    "        return logits, hidden\n",
    "        \n",
    "\n",
    "    @torch.no_grad()\n",
    "    def test_run(self, s, delay):\n",
    "        # This function accepts one string s containing lowercase characters a-z, \n",
    "        # and a delay - the desired output delay.\n",
    "        # You need to map those characters to one-hot encodings, \n",
    "        # then get the result from your network, and then convert the output \n",
    "        # back to a string of the same length, with 0 mapped to ' ', \n",
    "        # and 1-26 mapped to a-z.\n",
    "\n",
    "        self.eval()\n",
    "        \n",
    "        x = torch.tensor([ord(c)-(ord('a')-1) for c in s])\n",
    "        x_input = idx_to_onehot(x).unsqueeze(0)\n",
    "        x_input = x_input.to(device)\n",
    "        \n",
    "        delays = torch.tensor([delay])\n",
    "        delays = delays.to(device)\n",
    "        \n",
    "        output, _ = self.forward(x_input, delays)\n",
    "        output = torch.squeeze(output)\n",
    "        pred = torch.max(output, 1)\n",
    "        \n",
    "        decoded = [chr(ord('`')+round(v.item())) if round(v.item()) > 0 else ' ' for v in pred.indices]\n",
    "        \n",
    "        return decoded\n"
   ]
  },
  {
   "cell_type": "markdown",
   "metadata": {
    "id": "riu3qHWgKjsx"
   },
   "source": [
    "### Train\n",
    "\n",
    "As before, you're free to do what you want, as long as training finishes within 10 minutes and accuracy is above 0.99 for delays between 0 and 8."
   ]
  },
  {
   "cell_type": "code",
   "execution_count": 19,
   "metadata": {
    "id": "4FZHojnGO3aw"
   },
   "outputs": [],
   "source": [
    "def test_variable_delay_model(model, seq_length=20):\n",
    "    \"\"\"\n",
    "    This is the test function that runs 100 different strings through your model,\n",
    "    and checks the error rate.\n",
    "    \"\"\"\n",
    "    total = 0\n",
    "    correct = 0\n",
    "    for i in range(500):\n",
    "        s = ''.join([random.choice(string.ascii_lowercase) for i in range(seq_length)])\n",
    "        d = random.randint(0, model.max_delay)\n",
    "        result = model.test_run(s, d)\n",
    "        if d > 0:\n",
    "            z = zip(s[:-d], result[d:])\n",
    "        else:\n",
    "            z = zip(s, result)\n",
    "        for c1, c2 in z:\n",
    "            correct += int(c1 == c2)\n",
    "        total += len(s) - d\n",
    "\n",
    "    return correct / total"
   ]
  },
  {
   "cell_type": "code",
   "execution_count": 29,
   "metadata": {},
   "outputs": [],
   "source": [
    "MAX_DELAY = 8\n",
    "SEQ_LENGTH = 20\n",
    "\n",
    "ds = VariableDelayEchoDataset(max_delay=MAX_DELAY, seq_length=SEQ_LENGTH, size=DATASET_SIZE)\n",
    "train_dataloader = torch.utils.data.DataLoader(ds, batch_size=batch_size)"
   ]
  },
  {
   "cell_type": "code",
   "execution_count": 32,
   "metadata": {},
   "outputs": [],
   "source": [
    "epochs = 3\n",
    "\n",
    "model = VariableDelayGRUMemory(hidden_size=64, max_delay=MAX_DELAY)\n",
    "criterion = torch.nn.CrossEntropyLoss()\n",
    "optimizer = torch.optim.RMSprop(model.parameters(), lr=0.001)"
   ]
  },
  {
   "cell_type": "code",
   "execution_count": 33,
   "metadata": {
    "id": "YJ18Ef6vKi4s"
   },
   "outputs": [
    {
     "data": {
      "application/vnd.jupyter.widget-view+json": {
       "model_id": "758dc68fb8a947fb85f55cf014b1d7ce",
       "version_major": 2,
       "version_minor": 0
      },
      "text/plain": [
       "HBox(children=(FloatProgress(value=0.0, max=3125.0), HTML(value='')))"
      ]
     },
     "metadata": {},
     "output_type": "display_data"
    },
    {
     "name": "stdout",
     "output_type": "stream",
     "text": [
      "\n",
      "Train Epoch: 1/2, loss: 0.184, accuracy 0.21384%\n"
     ]
    },
    {
     "data": {
      "application/vnd.jupyter.widget-view+json": {
       "model_id": "b7427cb06b9541f4ad3d0857861af503",
       "version_major": 2,
       "version_minor": 0
      },
      "text/plain": [
       "HBox(children=(FloatProgress(value=0.0, max=3125.0), HTML(value='')))"
      ]
     },
     "metadata": {},
     "output_type": "display_data"
    },
    {
     "name": "stdout",
     "output_type": "stream",
     "text": [
      "\n",
      "Train Epoch: 2/2, loss: 0.048, accuracy 0.30053%\n"
     ]
    },
    {
     "data": {
      "application/vnd.jupyter.widget-view+json": {
       "model_id": "6ebaf85d479f4d41a201521e35079421",
       "version_major": 2,
       "version_minor": 0
      },
      "text/plain": [
       "HBox(children=(FloatProgress(value=0.0, max=3125.0), HTML(value='')))"
      ]
     },
     "metadata": {},
     "output_type": "display_data"
    },
    {
     "name": "stdout",
     "output_type": "stream",
     "text": [
      "\n",
      "Train Epoch: 3/2, loss: 0.004, accuracy 0.30888%\n",
      "time: 740.5593163967133\n",
      "acc: 0.9998756991920448\n",
      "tests passed\n"
     ]
    }
   ],
   "source": [
    "import time\n",
    "start_time = time.time()\n",
    "\n",
    "epoch = 0\n",
    "\n",
    "while epoch < epochs:\n",
    "    epoch += 1\n",
    "    \n",
    "    correct = 0\n",
    "    total = 0\n",
    "    \n",
    "    model.train()\n",
    "    for data, delays, target in notebook.tqdm(train_dataloader):\n",
    "        data, delays, target = idx_to_onehot(data).to(device), delays.to(device), target.to(device)\n",
    "        \n",
    "        optimizer.zero_grad()\n",
    "        \n",
    "        output, hidden = model(data, delays)\n",
    "        output = output.permute(0, 2, 1)\n",
    "        \n",
    "        loss = criterion(output, target)\n",
    "        loss.backward()\n",
    "        optimizer.step()\n",
    "        \n",
    "        pred = torch.log_softmax(output, 1).argmax(1).numpy()\n",
    "        y = target.numpy()        \n",
    "        for i in range(y.shape[0]):\n",
    "            correct += (pred[i] == y[i]).sum()\n",
    "            total += y.shape[0]\n",
    "            \n",
    "        \n",
    "    train_accuracy = float(correct)/total   \n",
    "    print(f'Train Epoch: {epoch}/{n_epochs}, loss: {loss.item():.3f}, accuracy {train_accuracy:.5f}%')\n",
    "        \n",
    "\n",
    "\n",
    "end_time = time.time()\n",
    "print(\"time:\", end_time-start_time)\n",
    "print(\"acc:\", test_variable_delay_model(model))\n",
    "# assert end_time - start_time < 600, 'executing took longer than 10 mins'\n",
    "assert test_variable_delay_model(model) > 0.99, 'accuracy is too low'\n",
    "print('tests passed')"
   ]
  },
  {
   "cell_type": "code",
   "execution_count": null,
   "metadata": {},
   "outputs": [],
   "source": []
  }
 ],
 "metadata": {
  "colab": {
   "collapsed_sections": [
    "JUbvDw31eJvY"
   ],
   "name": "hw2_rnn",
   "provenance": []
  },
  "kernelspec": {
   "display_name": "Python 3",
   "language": "python",
   "name": "python3"
  },
  "language_info": {
   "codemirror_mode": {
    "name": "ipython",
    "version": 3
   },
   "file_extension": ".py",
   "mimetype": "text/x-python",
   "name": "python",
   "nbconvert_exporter": "python",
   "pygments_lexer": "ipython3",
   "version": "3.6.9"
  }
 },
 "nbformat": 4,
 "nbformat_minor": 1
}
