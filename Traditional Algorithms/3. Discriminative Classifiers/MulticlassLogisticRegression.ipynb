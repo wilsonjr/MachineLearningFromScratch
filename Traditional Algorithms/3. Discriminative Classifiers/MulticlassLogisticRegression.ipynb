{
 "cells": [
  {
   "cell_type": "code",
   "execution_count": 1,
   "metadata": {},
   "outputs": [],
   "source": [
    "import numpy as np\n",
    "import matplotlib.pyplot as plt\n",
    "import seaborn as sns\n",
    "\n",
    "from sklearn import datasets\n",
    "\n",
    "from sklearn.metrics import accuracy_score"
   ]
  },
  {
   "cell_type": "code",
   "execution_count": 2,
   "metadata": {},
   "outputs": [],
   "source": [
    "wine = datasets.load_wine()\n",
    "X = wine['data']\n",
    "y = wine['target']"
   ]
  },
  {
   "cell_type": "code",
   "execution_count": 9,
   "metadata": {},
   "outputs": [],
   "source": [
    "def softmax(Z):\n",
    "    return (np.exp(Z)/(np.exp(Z).sum(1)[:, None]))\n",
    "\n",
    "def standard_scaler(X):\n",
    "    return (X - X.mean(axis=0))/X.std(axis=0)\n",
    "\n",
    "def make_I_matrix(y):\n",
    "    \"\"\"\n",
    "    Creates a one-hot encoding representation for y.\n",
    "    \"\"\"\n",
    "    I = np.zeros((len(y), len(np.unique(y))), dtype=int)\n",
    "    for j, target in enumerate(np.unique(y)):\n",
    "        I[:, j] = (y == target)\n",
    "        \n",
    "    return I"
   ]
  },
  {
   "cell_type": "markdown",
   "metadata": {},
   "source": [
    "We use gradient descent to find $B$ parameters\n",
    "\n",
    "$\\frac{\\partial L(B)}{\\partial\\beta} = \\frac{\\partial -log L(B)}{\\partial\\beta} = X^T(I-P)$"
   ]
  },
  {
   "cell_type": "code",
   "execution_count": 18,
   "metadata": {},
   "outputs": [],
   "source": [
    "class MulticlassLogisticRegression:\n",
    "    \n",
    "    def fit(self, X, y, n_iter, lr, \n",
    "            standardize=True, has_intercept=False):\n",
    "        \n",
    "        if standardize:\n",
    "            X = standard_scaler(X)\n",
    "        \n",
    "        if not has_intercept:\n",
    "            ones = np.ones(X.shape[0]).reshape(-1, 1)\n",
    "            X = np.concatenate((ones, X), axis=1)\n",
    "        \n",
    "        self.X = X\n",
    "        self.N, self.D = X.shape\n",
    "        self.y = y\n",
    "        self.K = len(np.unique(y))\n",
    "        self.n_iter = n_iter\n",
    "        self.lr = lr\n",
    "        \n",
    "        B = np.random.randn(self.D*self.K).reshape((self.D, self.K))\n",
    "        self.I = make_I_matrix(self.y)\n",
    "        for i in range(n_iter):\n",
    "            Z = np.dot(self.X, B)\n",
    "            P = softmax(Z)\n",
    "            gradient = np.dot(self.X.T, self.I-P)\n",
    "            B += lr*gradient\n",
    "            \n",
    "        self.B = B\n",
    "        self.Z = np.dot(self.X, B)\n",
    "        self.P = softmax(self.Z)\n",
    "        self.yhat = self.P.argmax(axis=1)"
   ]
  },
  {
   "cell_type": "code",
   "execution_count": 19,
   "metadata": {},
   "outputs": [
    {
     "name": "stdout",
     "output_type": "stream",
     "text": [
      "In-sample acc: 1.000\n"
     ]
    }
   ],
   "source": [
    "mc_model = MulticlassLogisticRegression()\n",
    "mc_model.fit(X, y, 10**4, 0.0001)\n",
    "\n",
    "print(\"In-sample acc: %.3f\" % (accuracy_score(mc_model.y, mc_model.yhat)))"
   ]
  },
  {
   "cell_type": "code",
   "execution_count": null,
   "metadata": {},
   "outputs": [],
   "source": []
  },
  {
   "cell_type": "code",
   "execution_count": null,
   "metadata": {},
   "outputs": [],
   "source": []
  }
 ],
 "metadata": {
  "kernelspec": {
   "display_name": "Python 3",
   "language": "python",
   "name": "python3"
  },
  "language_info": {
   "codemirror_mode": {
    "name": "ipython",
    "version": 3
   },
   "file_extension": ".py",
   "mimetype": "text/x-python",
   "name": "python",
   "nbconvert_exporter": "python",
   "pygments_lexer": "ipython3",
   "version": "3.6.9"
  }
 },
 "nbformat": 4,
 "nbformat_minor": 2
}
