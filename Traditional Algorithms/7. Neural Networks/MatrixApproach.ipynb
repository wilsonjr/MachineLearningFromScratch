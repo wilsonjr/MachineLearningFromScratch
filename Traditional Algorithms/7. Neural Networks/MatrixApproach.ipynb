{
 "cells": [
  {
   "cell_type": "code",
   "execution_count": 1,
   "metadata": {},
   "outputs": [],
   "source": [
    "import numpy as np\n",
    "import matplotlib.pyplot as plt\n",
    "import seaborn as sns\n",
    "\n",
    "from sklearn import datasets\n",
    "from sklearn.model_selection import train_test_split\n",
    "from sklearn.preprocessing import normalize"
   ]
  },
  {
   "cell_type": "code",
   "execution_count": 2,
   "metadata": {},
   "outputs": [],
   "source": [
    "np.random.seed(123)\n",
    "\n",
    "boston = datasets.load_boston()\n",
    "cancer =  datasets.load_breast_cancer()"
   ]
  },
  {
   "cell_type": "code",
   "execution_count": 3,
   "metadata": {},
   "outputs": [],
   "source": [
    "X_boston = boston['data']\n",
    "y_boston = boston['target']\n",
    "\n",
    "X_cancer = cancer['data']\n",
    "y_cancer = cancer['target']\n",
    "\n",
    "# X_boston = normalize(X_boston)\n",
    "# X_cancer = normalize(X_cancer)\n",
    "X_boston = (X_boston-X_boston.mean(axis=0))/X_boston.std(axis=0)\n",
    "X_cancer = (X_cancer-X_cancer.mean(axis=0))/X_cancer.std(axis=0)"
   ]
  },
  {
   "cell_type": "code",
   "execution_count": 4,
   "metadata": {},
   "outputs": [],
   "source": [
    "X_boston_train, X_boston_test, y_boston_train, y_boston_test = train_test_split(X_boston, y_boston, test_size=0.25, random_state=0)\n",
    "X_cancer_train, X_cancer_test, y_cancer_train, y_cancer_test = train_test_split(X_cancer, y_cancer, test_size=0.25, random_state=0)"
   ]
  },
  {
   "cell_type": "code",
   "execution_count": 5,
   "metadata": {},
   "outputs": [],
   "source": [
    "## activation functions\n",
    "\n",
    "def ReLU(h):\n",
    "    return np.maximum(h, 0)\n",
    "\n",
    "def sigmoid(h):\n",
    "    return 1/(1+np.exp(-h))\n",
    "\n",
    "def linear(h):\n",
    "    return h\n",
    "\n",
    "activation_function_dict = {\n",
    "    'ReLU': ReLU,\n",
    "    'sigmoid': sigmoid,\n",
    "    'linear': linear\n",
    "}"
   ]
  },
  {
   "cell_type": "code",
   "execution_count": 7,
   "metadata": {},
   "outputs": [],
   "source": [
    "class FeedForwardNeuralNetwork:\n",
    "    \n",
    "    \n",
    "    def fit(self, X, Y, n_hidden, f1 = 'ReLU', f2 = 'linear', loss = 'RSS', lr = 1e-5, n_iter = 5e3, seed = None):\n",
    "        \n",
    "        ## Store Information\n",
    "        self.X = X\n",
    "        self.Y = Y.reshape(len(Y), -1)\n",
    "        self.N = len(X)\n",
    "        self.D_X = self.X.shape[1]\n",
    "        self.D_Y = self.Y.shape[1]\n",
    "        self.Xt = self.X.T\n",
    "        self.Yt = self.Y.T\n",
    "        self.D_h = n_hidden\n",
    "        self.f1, self.f2 = f1, f2\n",
    "        self.loss = loss\n",
    "        self.lr = lr\n",
    "        self.n_iter = int(n_iter)\n",
    "        self.seed = seed\n",
    "        \n",
    "        ## Instantiate Weights\n",
    "        np.random.seed(self.seed)\n",
    "        self.W1 = np.random.randn(self.D_h, self.D_X)/5\n",
    "        self.c1 = np.random.randn(self.D_h, 1)/5\n",
    "        self.W2 = np.random.randn(self.D_Y, self.D_h)/5\n",
    "        self.c2 = np.random.randn(self.D_Y, 1)/5\n",
    "        \n",
    "        ## Instantiate Outputs\n",
    "        self.H1 = (self.W1 @ self.Xt) + self.c1\n",
    "        self.Z1 = activation_function_dict[self.f1](self.H1)\n",
    "        self.H2 = (self.W2 @ self.Z1) + self.c2\n",
    "        self.Yhatt = activation_function_dict[self.f2](self.H2)\n",
    "        \n",
    "        ## Fit Weights\n",
    "        for iteration in range(self.n_iter):\n",
    "            \n",
    "            # Yhat #\n",
    "            if self.loss == 'RSS':\n",
    "                self.dL_dYhatt = -(self.Yt - self.Yhatt) # (D_Y x N)\n",
    "            elif self.loss == 'log':\n",
    "                self.dL_dYhatt = (-(self.Yt/self.Yhatt) + (1-self.Yt)/(1-self.Yhatt)) # (D_y x N)\n",
    "            \n",
    "            # H2 #\n",
    "            if self.f2 == 'linear':\n",
    "                self.dYhatt_dH2 = np.ones((self.D_Y, self.N))\n",
    "            elif self.f2 == 'sigmoid':\n",
    "                self.dYhatt_dH2 = sigmoid(self.H2) * (1- sigmoid(self.H2))\n",
    "            self.dL_dH2 = self.dL_dYhatt * self.dYhatt_dH2 # (D_Y x N)\n",
    "\n",
    "            # c2 # \n",
    "            self.dL_dc2 = np.sum(self.dL_dH2, 1) # (D_y)\n",
    "            \n",
    "            # W2 # \n",
    "            self.dL_dW2 = np.tensordot(self.dL_dH2, self.Z1, (1,1)) # (D_Y x D_h)\n",
    "            \n",
    "            # Z1 #\n",
    "            self.dL_dZ1 = np.tensordot(self.W2, self.dL_dH2, (0, 0)) # (D_h x N)\n",
    "            \n",
    "            # H1 #\n",
    "            if self.f1 == 'ReLU':\n",
    "                self.dL_dH1 = self.dL_dZ1 * np.maximum(self.H1, 0) # (D_h x N)\n",
    "            elif self.f1 == 'linear':\n",
    "                self.dL_dH1 = self.dL_dZ1 # (D_h x N)\n",
    "            \n",
    "            # c1 #\n",
    "            self.dL_dc1 = np.sum(self.dL_dH1, 1) # (D_h)\n",
    "            \n",
    "            # W1 # \n",
    "            self.dL_dW1 = np.tensordot(self.dL_dH1, self.Xt, (1,1)) # (D_h, D_X)\n",
    "            \n",
    "            ## Update Weights\n",
    "            self.W1 -= self.lr * self.dL_dW1\n",
    "            self.c1 -= self.lr * self.dL_dc1.reshape(-1, 1)           \n",
    "            self.W2 -= self.lr * self.dL_dW2            \n",
    "            self.c2 -= self.lr * self.dL_dc2.reshape(-1, 1)                    \n",
    "            \n",
    "            ## Update Outputs\n",
    "            self.H1 = (self.W1 @ self.Xt) + self.c1\n",
    "            self.Z1 = activation_function_dict[self.f1](self.H1)\n",
    "            self.H2 = (self.W2 @ self.Z1) + self.c2\n",
    "            self.Yhatt = activation_function_dict[self.f2](self.H2)  \n",
    "            \n",
    "    def predict(self, X_test):\n",
    "        X_testt = X_test.T\n",
    "        self.h1 = (self.W1 @ X_testt) + self.c1\n",
    "        self.z1 = activation_function_dict[self.f1](self.h1)\n",
    "        self.h2 = (self.W2 @ self.z1) + self.c2\n",
    "        self.Yhatt = activation_function_dict[self.f2](self.h2)        \n",
    "        return self.Yhatt"
   ]
  },
  {
   "cell_type": "code",
   "execution_count": 8,
   "metadata": {},
   "outputs": [],
   "source": [
    "ffnn = FeedForwardNeuralNetwork()\n",
    "ffnn.fit(X_boston_train, y_boston_train, n_hidden=8)\n",
    "y_boston_test_hat = ffnn.predict(X_boston_test)\n"
   ]
  },
  {
   "cell_type": "code",
   "execution_count": 9,
   "metadata": {},
   "outputs": [
    {
     "name": "stderr",
     "output_type": "stream",
     "text": [
      "C:\\Users\\wilso\\Anaconda3\\envs\\ia-tools\\lib\\site-packages\\seaborn\\_decorators.py:43: FutureWarning: Pass the following variables as keyword args: x, y. From version 0.12, the only valid positional argument will be `data`, and passing other arguments without an explicit keyword will result in an error or misinterpretation.\n",
      "  FutureWarning\n"
     ]
    },
    {
     "data": {
      "image/png": "[encoded data removed]",
      "text/plain": [
       "<Figure size 432x288 with 1 Axes>"
      ]
     },
     "metadata": {
      "needs_background": "light"
     },
     "output_type": "display_data"
    }
   ],
   "source": [
    "fig, ax = plt.subplots()\n",
    "sns.scatterplot(y_boston_test, y_boston_test_hat[0])\n",
    "ax.set(xlabel = r'$y$', ylabel = r'$\\hat{y}$', title = r'$y$ vs. $\\hat{y}$')\n",
    "sns.despine()"
   ]
  },
  {
   "cell_type": "code",
   "execution_count": 16,
   "metadata": {},
   "outputs": [
    {
     "data": {
      "text/plain": [
       "0.9440559440559441"
      ]
     },
     "execution_count": 16,
     "metadata": {},
     "output_type": "execute_result"
    }
   ],
   "source": [
    "ffnn = FeedForwardNeuralNetwork()\n",
    "ffnn.fit(X_cancer_train, y_cancer_train, n_hidden = 3,\n",
    "         loss = 'log', f2 = 'sigmoid', seed = 123, lr = 1e-4)\n",
    "y_cancer_test_hat = ffnn.predict(X_cancer_test)\n",
    "np.mean(y_cancer_test_hat.round() == y_cancer_test)"
   ]
  },
  {
   "cell_type": "code",
   "execution_count": null,
   "metadata": {},
   "outputs": [],
   "source": []
  }
 ],
 "metadata": {
  "kernelspec": {
   "display_name": "Python 3",
   "language": "python",
   "name": "python3"
  },
  "language_info": {
   "codemirror_mode": {
    "name": "ipython",
    "version": 3
   },
   "file_extension": ".py",
   "mimetype": "text/x-python",
   "name": "python",
   "nbconvert_exporter": "python",
   "pygments_lexer": "ipython3",
   "version": "3.6.9"
  }
 },
 "nbformat": 4,
 "nbformat_minor": 2
}
