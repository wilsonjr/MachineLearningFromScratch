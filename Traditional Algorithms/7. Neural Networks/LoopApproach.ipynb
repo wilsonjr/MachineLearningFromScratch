{
 "cells": [
  {
   "cell_type": "code",
   "execution_count": 46,
   "metadata": {},
   "outputs": [],
   "source": [
    "import numpy as np\n",
    "import matplotlib.pyplot as plt\n",
    "import seaborn as sns\n",
    "\n",
    "from sklearn import datasets\n",
    "from sklearn.model_selection import train_test_split\n",
    "from sklearn.preprocessing import normalize"
   ]
  },
  {
   "cell_type": "code",
   "execution_count": 47,
   "metadata": {},
   "outputs": [],
   "source": [
    "np.random.seed(123)\n",
    "\n",
    "boston = datasets.load_boston()\n",
    "cancer =  datasets.load_breast_cancer()"
   ]
  },
  {
   "cell_type": "code",
   "execution_count": 50,
   "metadata": {},
   "outputs": [],
   "source": [
    "X_boston = boston['data']\n",
    "y_boston = boston['target']\n",
    "\n",
    "X_cancer = cancer['data']\n",
    "y_cancer = cancer['target']\n",
    "\n",
    "# X_boston = normalize(X_boston)\n",
    "# X_cancer = normalize(X_cancer)\n",
    "X_boston = (X_boston-X_boston.mean(axis=0))/X_boston.std(axis=0)\n",
    "X_cancer = (X_cancer-X_cancer.mean(axis=0))/X_cancer.std(axis=0)"
   ]
  },
  {
   "cell_type": "code",
   "execution_count": 51,
   "metadata": {},
   "outputs": [],
   "source": [
    "X_boston_train, X_boston_test, y_boston_train, y_boston_test = train_test_split(X_boston, y_boston, test_size=0.25, random_state=0)\n",
    "X_cancer_train, X_cancer_test, y_cancer_train, y_cancer_test = train_test_split(X_cancer, y_cancer, test_size=0.25, random_state=0)"
   ]
  },
  {
   "cell_type": "code",
   "execution_count": 52,
   "metadata": {},
   "outputs": [],
   "source": [
    "## activation functions\n",
    "\n",
    "def ReLU(h):\n",
    "    return np.maximum(h, 0)\n",
    "\n",
    "def sigmoid(h):\n",
    "    return 1/(1+np.exp(-h))\n",
    "\n",
    "def linear(h):\n",
    "    return h\n",
    "\n",
    "activation_function_dict = {\n",
    "    'ReLU': ReLU,\n",
    "    'sigmoid': sigmoid,\n",
    "    'linear': linear\n",
    "}"
   ]
  },
  {
   "cell_type": "code",
   "execution_count": 53,
   "metadata": {},
   "outputs": [],
   "source": [
    "class FeedForwardNeuralNetwork:\n",
    "    \n",
    "    def fit(self, X, y, n_hidden, f1 = 'ReLU', f2 = 'linear', loss = 'RSS', lr = 1e-5, n_iter = 1e3, seed = None):\n",
    "        \n",
    "        ## Store Information\n",
    "        self.X = X\n",
    "        self.y = y.reshape(len(y), -1)\n",
    "        self.N = len(X)\n",
    "        self.D_X = self.X.shape[1]\n",
    "        self.D_y = self.y.shape[1]\n",
    "        self.D_h = n_hidden\n",
    "        self.f1, self.f2 = f1, f2\n",
    "        self.loss = loss\n",
    "        self.lr = lr\n",
    "        self.n_iter = int(n_iter)\n",
    "        self.seed = seed\n",
    "        \n",
    "        ## Instantiate Weights\n",
    "        np.random.seed(self.seed)\n",
    "        self.W1 = np.random.randn(self.D_h, self.D_X)/5\n",
    "        self.c1 = np.random.randn(self.D_h, 1)/5\n",
    "        self.W2 = np.random.randn(self.D_y, self.D_h)/5\n",
    "        self.c2 = np.random.randn(self.D_y, 1)/5\n",
    "        \n",
    "        ## Instantiate Outputs\n",
    "        self.h1 = np.dot(self.W1, self.X.T) + self.c1\n",
    "        self.z1 = activation_function_dict[f1](self.h1)\n",
    "        self.h2 = np.dot(self.W2, self.z1) + self.c2\n",
    "        self.yhat = activation_function_dict[f2](self.h2)\n",
    "        \n",
    "        ## Fit Weights\n",
    "        for iteration in range(self.n_iter):\n",
    "            \n",
    "            dL_dW2 = 0\n",
    "            dL_dc2 = 0\n",
    "            dL_dW1 = 0\n",
    "            dL_dc1 = 0\n",
    "            \n",
    "            for n in range(self.N):\n",
    "                \n",
    "                # dL_dyhat\n",
    "                if loss == 'RSS':\n",
    "                    dL_dyhat = -2*(self.y[n] - self.yhat[:,n]).T # (1, D_y)\n",
    "                elif loss == 'log':\n",
    "                    dL_dyhat = (-(self.y[n]/self.yhat[:,n]) + (1-self.y[n])/(1-self.yhat[:,n])).T # (1, D_y)\n",
    "                \n",
    "        \n",
    "                ## LAYER 2 ## \n",
    "                # dyhat_dh2 \n",
    "                if f2 == 'linear':\n",
    "                    dyhat_dh2 = np.eye(self.D_y) # (D_y, D_y)\n",
    "                elif f2 == 'sigmoid':\n",
    "                    dyhat_dh2 = np.diag(sigmoid(self.h2[:,n])*(1-sigmoid(self.h2[:,n]))) # (D_y, D_y)\n",
    "                    \n",
    "                # dh2_dc2\n",
    "                dh2_dc2 = np.eye(self.D_y) # (D_y, D_y)\n",
    "                \n",
    "                # dh2_dW2 \n",
    "                dh2_dW2 = np.zeros((self.D_y, self.D_y, self.D_h)) # (D_y, (D_y, D_h)) \n",
    "                for i in range(self.D_y):\n",
    "                    dh2_dW2[i] = self.z1[:,n] \n",
    "                \n",
    "                # dh2_dz1\n",
    "                dh2_dz1 = self.W2 # (D_y, D_h)\n",
    "                \n",
    "                \n",
    "                ## LAYER 1 ##\n",
    "                # dz1_dh1\n",
    "                if f1 == 'ReLU':\n",
    "                    dz1_dh1 = 1*np.diag(self.h1[:,n] > 0) # (D_h, D_h)                \n",
    "                elif f1 == 'linear':\n",
    "                    dz1_dh1 = np.eye(self.D_h) # (D_h, D_h)\n",
    "\n",
    "                \n",
    "                # dh1_dc1 \n",
    "                dh1_dc1 = np.eye(self.D_h) # (D_h, D_h)\n",
    "                \n",
    "                # dh1_dW1\n",
    "                dh1_dW1 = np.zeros((self.D_h, self.D_h, self.D_X)) # (D_h, (D_h, D_X))\n",
    "                for i in range(self.D_h):\n",
    "                    dh1_dW1[i] = self.X[n]\n",
    "                \n",
    "                \n",
    "                ## DERIVATIVES W.R.T. LOSS ## \n",
    "                dL_dh2 = dL_dyhat @ dyhat_dh2\n",
    "                dL_dW2 += dL_dh2 @ dh2_dW2\n",
    "                dL_dc2 += dL_dh2 @ dh2_dc2\n",
    "                dL_dh1 = dL_dh2 @ dh2_dz1 @ dz1_dh1\n",
    "                dL_dW1 += dL_dh1 @ dh1_dW1\n",
    "                dL_dc1 += dL_dh1 @ dh1_dc1\n",
    "            \n",
    "            ## Update Weights\n",
    "            self.W1 -= self.lr * dL_dW1\n",
    "            self.c1 -= self.lr * dL_dc1.reshape(-1, 1)           \n",
    "            self.W2 -= self.lr * dL_dW2            \n",
    "            self.c2 -= self.lr * dL_dc2.reshape(-1, 1)                    \n",
    "            \n",
    "            ## Update Outputs\n",
    "            self.h1 = np.dot(self.W1, self.X.T) + self.c1\n",
    "            self.z1 = activation_function_dict[f1](self.h1)\n",
    "            self.h2 = np.dot(self.W2, self.z1) + self.c2\n",
    "            self.yhat = activation_function_dict[f2](self.h2)\n",
    "            \n",
    "    def predict(self, X_test):\n",
    "        self.h1 = np.dot(self.W1, X_test.T) + self.c1\n",
    "        self.z1 = activation_function_dict[self.f1](self.h1)\n",
    "        self.h2 = np.dot(self.W2, self.z1) + self.c2\n",
    "        self.yhat = activation_function_dict[self.f2](self.h2)        \n",
    "        return self.yhat\n",
    "    "
   ]
  },
  {
   "cell_type": "code",
   "execution_count": 54,
   "metadata": {},
   "outputs": [],
   "source": [
    "ffnn = FeedForwardNeuralNetwork()\n",
    "ffnn.fit(X_boston_train, y_boston_train, n_hidden=8)\n",
    "y_boston_test_hat = ffnn.predict(X_boston_test)"
   ]
  },
  {
   "cell_type": "code",
   "execution_count": 55,
   "metadata": {},
   "outputs": [
    {
     "name": "stderr",
     "output_type": "stream",
     "text": [
      "C:\\Users\\wilso\\Anaconda3\\envs\\ia-tools\\lib\\site-packages\\seaborn\\_decorators.py:43: FutureWarning: Pass the following variables as keyword args: x, y. From version 0.12, the only valid positional argument will be `data`, and passing other arguments without an explicit keyword will result in an error or misinterpretation.\n",
      "  FutureWarning\n"
     ]
    },
    {
     "data": {
      "image/png": "[encoded data removed]",
      "text/plain": [
       "<Figure size 432x288 with 1 Axes>"
      ]
     },
     "metadata": {
      "needs_background": "light"
     },
     "output_type": "display_data"
    }
   ],
   "source": [
    "fig, ax = plt.subplots()\n",
    "sns.scatterplot(y_boston_test, y_boston_test_hat[0])\n",
    "ax.set(xlabel = r'$y$', ylabel = r'$\\hat{y}$', title = r'$y$ vs. $\\hat{y}$')\n",
    "sns.despine()"
   ]
  },
  {
   "cell_type": "code",
   "execution_count": 56,
   "metadata": {},
   "outputs": [
    {
     "data": {
      "text/plain": [
       "0.9300699300699301"
      ]
     },
     "execution_count": 56,
     "metadata": {},
     "output_type": "execute_result"
    }
   ],
   "source": [
    "ffnn = FeedForwardNeuralNetwork()\n",
    "ffnn.fit(X_cancer_train, y_cancer_train, n_hidden = 8,\n",
    "         loss = 'log', f2 = 'sigmoid', seed = 123, lr = 1e-4)\n",
    "y_cancer_test_hat = ffnn.predict(X_cancer_test)\n",
    "np.mean(y_cancer_test_hat.round() == y_cancer_test)"
   ]
  },
  {
   "cell_type": "code",
   "execution_count": null,
   "metadata": {},
   "outputs": [],
   "source": []
  }
 ],
 "metadata": {
  "kernelspec": {
   "display_name": "Python 3",
   "language": "python",
   "name": "python3"
  },
  "language_info": {
   "codemirror_mode": {
    "name": "ipython",
    "version": 3
   },
   "file_extension": ".py",
   "mimetype": "text/x-python",
   "name": "python",
   "nbconvert_exporter": "python",
   "pygments_lexer": "ipython3",
   "version": "3.6.9"
  }
 },
 "nbformat": 4,
 "nbformat_minor": 2
}
