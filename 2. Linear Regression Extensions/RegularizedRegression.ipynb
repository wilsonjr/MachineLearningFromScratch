{
 "cells": [
  {
   "cell_type": "code",
   "execution_count": 12,
   "metadata": {},
   "outputs": [],
   "source": [
    "import numpy as np\n",
    "import matplotlib.pyplot as plt\n",
    "import seaborn as sns\n",
    "\n",
    "from tqdm import tqdm\n",
    "from sklearn import datasets\n",
    "\n",
    "boston = datasets.load_boston()\n",
    "X = boston['data']\n",
    "y = boston['target']"
   ]
  },
  {
   "cell_type": "code",
   "execution_count": 13,
   "metadata": {},
   "outputs": [],
   "source": [
    "def standard_scaler(X):\n",
    "    means = X.mean(axis=0)\n",
    "    stds = X.std(axis=0)\n",
    "    return (X-means)/stds\n",
    "\n",
    "# function used in the Lasso regression gradient\n",
    "def sign(x, first_element_zero = False):\n",
    "    signs = (-1)**(x < 0)\n",
    "    \n",
    "    # wheter to prevent Lasso from penalizing the magnitude of the intercept\n",
    "    if first_element_zero:\n",
    "        signs[0] = 0\n",
    "    return signs"
   ]
  },
  {
   "cell_type": "markdown",
   "metadata": {},
   "source": [
    "The following class allows Ridge and Lasso regression by finding, respectivelly, the following $\\hat{\\beta}$:\n",
    "\n",
    "* $\\hat{\\beta} = (X^TX + \\lambda I')^{-1}X^Ty$ for Ridge regression, and;\n",
    "* $\\frac{\\delta L(\\hat{\\beta})}{\\delta\\hat{\\beta}} = -X^T(y - X\\hat{\\beta}) + \\lambda I'sign(\\hat{\\beta})$ for Lasso regression."
   ]
  },
  {
   "cell_type": "code",
   "execution_count": 14,
   "metadata": {},
   "outputs": [],
   "source": [
    "class RegularizedRegression:\n",
    "    \n",
    "    def _record_info(self, X, y, lam, intercept, standardize):\n",
    "        \n",
    "        # standardize\n",
    "        if standardize == True:\n",
    "            X = standard_scaler(X)\n",
    "        \n",
    "        # add intercept\n",
    "        if intercept == False:\n",
    "            ones = np.ones(len(X)).reshape(len(X), 1) # column of ones\n",
    "            X = np.concatenate((ones, X), axis=1) # concatenate\n",
    "            \n",
    "        # record values\n",
    "        self.X = np.array(X)\n",
    "        self.y = np.array(y)\n",
    "        self.N, self.D = self.X.shape\n",
    "        self.lam = lam\n",
    "        \n",
    "    def fit_ridge(self, X, y, lam=0, intercept=False, standardize=True):\n",
    "        \n",
    "        # record data and dimensions\n",
    "        self._record_info(X, y, lam, intercept, standardize)\n",
    "        \n",
    "        # estimate parameters\n",
    "        XtX = np.dot(self.X.T, self.X)\n",
    "        I_prime = np.eye(self.D)\n",
    "        I_prime[0, 0] = 0\n",
    "        XtX_plus_inverse = np.linalg.inv(XtX + self.lam*I_prime)\n",
    "        Xty = np.dot(self.X.T, self.y)\n",
    "        self.beta_hats = np.dot(XtX_plus_inverse, Xty)\n",
    "        \n",
    "        self.y_hat = np.dot(self.X, self.beta_hats)\n",
    "        \n",
    "        \n",
    "    def fit_lasso(self, X, y, lam=0, n_iters=2000, lr=0.0001, intercept=False, standardize=True):\n",
    "        \n",
    "        self._record_info(X, y, lam, intercept, standardize)\n",
    "        \n",
    "        # perform gradient descent\n",
    "        beta_hats = np.random.randn(self.D)\n",
    "        I_prime = np.eye(self.D)\n",
    "        I_prime[0,0] = 0 \n",
    "        for i in tqdm(range(n_iters)):\n",
    "            dL_dbeta = -np.dot(self.X.T, (self.y - np.dot(self.X, beta_hats))) + self.lam*sign(beta_hats, True)\n",
    "            beta_hats = beta_hats - lr*dL_dbeta\n",
    "        \n",
    "        self.beta_hats = beta_hats\n",
    "        \n",
    "        self.y_hat = np.dot(self.X, self.beta_hats)"
   ]
  },
  {
   "cell_type": "code",
   "execution_count": 15,
   "metadata": {},
   "outputs": [
    {
     "name": "stderr",
     "output_type": "stream",
     "text": [
      "100%|███████████████████████████████████████████████████████████████████████████| 2000/2000 [00:00<00:00, 39831.95it/s]\n"
     ]
    }
   ],
   "source": [
    "# set lambda\n",
    "lam = 10\n",
    "\n",
    "# fit ridge \n",
    "ridge_model = RegularizedRegression()\n",
    "ridge_model.fit_ridge(X, y, lam)\n",
    "\n",
    "# fit lasso\n",
    "lasso_model = RegularizedRegression()\n",
    "lasso_model.fit_lasso(X, y, lam)"
   ]
  },
  {
   "cell_type": "code",
   "execution_count": 17,
   "metadata": {},
   "outputs": [
    {
     "name": "stderr",
     "output_type": "stream",
     "text": [
      "100%|███████████████████████████████████████████████████████████████████████████| 2000/2000 [00:00<00:00, 45411.82it/s]\n",
      "100%|███████████████████████████████████████████████████████████████████████████| 2000/2000 [00:00<00:00, 50226.07it/s]\n",
      "100%|███████████████████████████████████████████████████████████████████████████| 2000/2000 [00:00<00:00, 49791.41it/s]\n",
      "100%|███████████████████████████████████████████████████████████████████████████| 2000/2000 [00:00<00:00, 44120.38it/s]\n",
      "100%|███████████████████████████████████████████████████████████████████████████| 2000/2000 [00:00<00:00, 50241.41it/s]\n",
      "100%|███████████████████████████████████████████████████████████████████████████| 2000/2000 [00:00<00:00, 44205.71it/s]\n"
     ]
    },
    {
     "data": {
      "image/png": "[encoded data removed]",
      "text/plain": [
       "<Figure size 1296x720 with 6 Axes>"
      ]
     },
     "metadata": {
      "needs_background": "light"
     },
     "output_type": "display_data"
    }
   ],
   "source": [
    "Xs = ['X'+str(i + 1) for i in range(X.shape[1])]\n",
    "lams = [10**4, 10**2, 0]\n",
    "\n",
    "\n",
    "fig, ax = plt.subplots(nrows = 2, ncols = len(lams), figsize = (6*len(lams), 10), sharey = True)\n",
    "for i, lam in enumerate(lams):\n",
    "    \n",
    "    ridge_model = RegularizedRegression()\n",
    "    ridge_model.fit_lasso(X, y, lam) \n",
    "    ridge_betas = ridge_model.beta_hats[1:]\n",
    "    sns.barplot(Xs, ridge_betas, ax = ax[0, i], palette = 'PuBu')\n",
    "    ax[0, i].set(xlabel = 'Regressor', title = fr'Ridge Coefficients with $\\lambda = $ {lam}')\n",
    "    ax[0, i].set(xticks = np.arange(0, len(Xs), 2), xticklabels = Xs[::2])\n",
    "    \n",
    "    lasso_model = RegularizedRegression()\n",
    "    lasso_model.fit_lasso(X, y, lam) \n",
    "    lasso_betas = lasso_model.beta_hats[1:]\n",
    "    sns.barplot(Xs, lasso_betas, ax = ax[1, i], palette = 'PuBu')\n",
    "    ax[1, i].set(xlabel = 'Regressor', title = fr'Lasso Coefficients with $\\lambda = $ {lam}')\n",
    "    ax[1, i].set(xticks = np.arange(0, len(Xs), 2), xticklabels = Xs[::2])\n",
    "\n",
    "ax[0,0].set(ylabel = 'Coefficient')\n",
    "ax[1,0].set(ylabel = 'Coefficient')\n",
    "plt.subplots_adjust(wspace = 0.2, hspace = 0.4)\n",
    "sns.despine()\n",
    "sns.set_context('talk');"
   ]
  },
  {
   "cell_type": "code",
   "execution_count": null,
   "metadata": {},
   "outputs": [],
   "source": []
  }
 ],
 "metadata": {
  "kernelspec": {
   "display_name": "Python 3",
   "language": "python",
   "name": "python3"
  },
  "language_info": {
   "codemirror_mode": {
    "name": "ipython",
    "version": 3
   },
   "file_extension": ".py",
   "mimetype": "text/x-python",
   "name": "python",
   "nbconvert_exporter": "python",
   "pygments_lexer": "ipython3",
   "version": "3.7.3"
  }
 },
 "nbformat": 4,
 "nbformat_minor": 2
}
